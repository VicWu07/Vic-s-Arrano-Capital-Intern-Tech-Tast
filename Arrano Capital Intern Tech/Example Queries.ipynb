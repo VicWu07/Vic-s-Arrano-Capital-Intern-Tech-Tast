{
 "cells": [
  {
   "cell_type": "markdown",
   "metadata": {},
   "source": [
    "## Hi, welcome to Vic's Business Query, powered by SQLite, Pandas, Coingecko API\n",
    "\n",
    "## Below are three business Queries that you can do with this database"
   ]
  },
  {
   "cell_type": "code",
   "execution_count": 1,
   "metadata": {},
   "outputs": [],
   "source": [
    "import sqlite3 as sql\n",
    "import pandas as pd"
   ]
  },
  {
   "cell_type": "code",
   "execution_count": 3,
   "metadata": {},
   "outputs": [
    {
     "name": "stdout",
     "output_type": "stream",
     "text": [
      "For a given ERC-20 token address, what was it's volume last week?\n",
      "Please input your ERC-20 token address,for example,0x6b3595068778dd592e39a122f4f5a5cf09c90fe20x6b3595068778dd592e39a122f4f5a5cf09c90fe2\n",
      "\n",
      "below is the token you are looking for:\n",
      "        id                               token_address\n",
      "21  sushi  0x6b3595068778dd592e39a122f4f5a5cf09c90fe2\n",
      "total volumes for sushi is: 6199774478.472252 for the last week\n"
     ]
    }
   ],
   "source": [
    "print(\"For a given ERC-20 token address, what was it's volume last week?\")\n",
    "user_input=[input(\"Please input your ERC-20 token address,for example,0x6b3595068778dd592e39a122f4f5a5cf09c90fe2\")]\n",
    "con=sql.connect(\"Top80ERC20.db\")\n",
    "_id=pd.read_sql('SELECT id,token_address FROM ERC20Basic', con)\n",
    "print(\"\"\"\n",
    "below is the token you are looking for:\n",
    "\"\"\",_id[_id['token_address'].isin(user_input)])\n",
    "strid=_id[_id['token_address'].isin(user_input)]['id']\n",
    "finder=strid.values[0]\n",
    "cur = con.cursor()\n",
    "_7daysvolume=cur.execute('SELECT total_volumes FROM ERC20Mark WHERE id=?',(finder,)).fetchmany(7)\n",
    "totvol=0\n",
    "for i in range(7):\n",
    "    totvol=totvol+_7daysvolume[i][0]\n",
    "print('total volumes for',finder,'is:',totvol,'for the last week')\n",
    "\n",
    "con.close()"
   ]
  },
  {
   "cell_type": "code",
   "execution_count": 14,
   "metadata": {},
   "outputs": [
    {
     "name": "stdout",
     "output_type": "stream",
     "text": [
      "For a given symbol, what is it's token address?\n",
      "Please input your ERC-20 symbol,for example,usdtfei\n",
      "The Token Address for fei is 0x956f47f50a910163d8bf957cf5846d573e7f87ca\n"
     ]
    }
   ],
   "source": [
    "print(\"For a given symbol, what is it's token address?\")\n",
    "user_input=[input(\"Please input your ERC-20 symbol,for example,usdt\")]\n",
    "con=sql.connect(\"Top80ERC20.db\")\n",
    "_id=pd.read_sql('SELECT symbol,token_address FROM ERC20Basic', con)\n",
    "print(\"The Token Address for\",_id[_id['symbol'].isin(user_input)].values[0][0],\"is\",_id[_id['symbol'].isin(user_input)].values[0][1])\n",
    "\n",
    "con.close()"
   ]
  },
  {
   "cell_type": "code",
   "execution_count": 60,
   "metadata": {},
   "outputs": [
    {
     "name": "stdout",
     "output_type": "stream",
     "text": [
      "For a given symbol, what is the 24 hour price moving average over the last month?\n",
      "Please input your ERC-20 token symbol,for example,usdttribe\n",
      "\n",
      "below is the token you are looking for:\n",
      "          id symbol\n",
      "71  tribe-2  tribe\n",
      "The 24 hour price change moving average in percentage over the last month is:-1.17899816941895% for tribe-2\n"
     ]
    }
   ],
   "source": [
    "print(\"For a given symbol, what is the 24 hour price moving average over the last month?\")\n",
    "user_input=[input(\"Please input your ERC-20 token symbol,for example,usdt\")]\n",
    "con=sql.connect(\"Top80ERC20.db\")\n",
    "_id=pd.read_sql('SELECT id,symbol FROM ERC20Basic', con)\n",
    "print(\"\"\"\n",
    "below is the token you are looking for:\n",
    "\"\"\",_id[_id['symbol'].isin(user_input)])\n",
    "\n",
    "strid=_id[_id['symbol'].isin(user_input)]['id']\n",
    "finder=strid.values[0]\n",
    "cur = con.cursor()\n",
    "_31dayprices=cur.execute('SELECT prices FROM ERC20Mark WHERE id=?',(finder,)).fetchmany(31)\n",
    "s=pd.Series(_31dayprices[i][0] for i in range(31))\n",
    "finalr=str(s.pct_change().mean()*100)\n",
    "print(\"The 24 hour price change moving average in percentage over the last month is:\"+finalr+\"% for\",finder)\n",
    "con.close()"
   ]
  }
 ],
 "metadata": {
  "kernelspec": {
   "display_name": "Python 3",
   "language": "python",
   "name": "python3"
  },
  "language_info": {
   "codemirror_mode": {
    "name": "ipython",
    "version": 3
   },
   "file_extension": ".py",
   "mimetype": "text/x-python",
   "name": "python",
   "nbconvert_exporter": "python",
   "pygments_lexer": "ipython3",
   "version": "3.8.5"
  }
 },
 "nbformat": 4,
 "nbformat_minor": 4
}
